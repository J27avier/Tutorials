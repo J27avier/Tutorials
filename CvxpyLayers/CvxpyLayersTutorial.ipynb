{
 "cells": [
  {
   "cell_type": "markdown",
   "id": "0650cac6-83b9-48c5-8ba8-fb532a8453f1",
   "metadata": {},
   "source": [
    "# Cvxpy Layers Tutorial\n",
    "For safe NNs\n",
    "\n",
    "[Blog](https://locuslab.github.io/2019-10-28-cvxpylayers/)\n",
    "\n",
    "[Paper](https://web.stanford.edu/~boyd/papers/pdf/diff_cvxpy.pdf)\n",
    "\n",
    "[Applications in RL](https://dl.acm.org/doi/abs/10.1145/3447555.3464874)"
   ]
  },
  {
   "cell_type": "code",
   "execution_count": 28,
   "id": "1d61350b-c7bb-480f-a593-0def54943479",
   "metadata": {},
   "outputs": [],
   "source": [
    "import torch\n",
    "from tqdm import tqdm\n",
    "import os, sys\n",
    "import numpy as np\n",
    "import cvxpy as cp \n",
    "from cvxpylayers.torch import CvxpyLayer \n",
    "\n",
    "torch.manual_seed(42)\n",
    "torch.set_printoptions(precision=4, sci_mode=False)\n"
   ]
  },
  {
   "cell_type": "code",
   "execution_count": 69,
   "id": "a09fcc6c",
   "metadata": {},
   "outputs": [],
   "source": [
    "class Net(torch.nn.Module):\n",
    "    def __init__(self):\n",
    "        super(Net, self).__init__()\n",
    "        self.linear = torch.nn.Linear(2, 1, bias=False)\n",
    "        #torch.nn.init.constant_(self.linear.weight, 2) \n",
    "    def forward(self, x):\n",
    "        return self.linear(x)"
   ]
  },
  {
   "cell_type": "code",
   "execution_count": 70,
   "id": "3a9365bd",
   "metadata": {},
   "outputs": [],
   "source": [
    "X = torch.randn(5, 2) # n_batches, n_features\n",
    "Y = X.detach().clone() @ torch.Tensor([[2],[2]])"
   ]
  },
  {
   "cell_type": "code",
   "execution_count": 74,
   "id": "0c97db18-1cdc-4bc5-8e97-7a1d7395dc06",
   "metadata": {},
   "outputs": [
    {
     "name": "stdout",
     "output_type": "stream",
     "text": [
      "5.262478351593018\n",
      "2.060473680496216\n",
      "0.8606888651847839\n",
      "0.2034994661808014\n",
      "0.024738270789384842\n",
      "0.0024578780867159367\n",
      "0.006969773210585117\n",
      "0.0049374583177268505\n",
      "0.001099787768907845\n",
      "1.1908976375707425e-05\n",
      "Parameter containing:\n",
      "tensor([[1.9908, 1.9866]], requires_grad=True)\n"
     ]
    }
   ],
   "source": [
    "net = Net()\n",
    "opt = torch.optim.Adam( net.parameters(), lr=0.1)\n",
    "list_l =[]\n",
    "\n",
    "for i in range(100):\n",
    "    opt.zero_grad()\n",
    "    l = torch.nn.MSELoss()(net(X), Y)\n",
    "    if i % 10 == 0:\n",
    "        print(l.item())\n",
    "    l.backward()\n",
    "    opt.step()\n",
    "\n",
    "print(net.linear.weight)"
   ]
  },
  {
   "cell_type": "code",
   "execution_count": 75,
   "id": "40b514be",
   "metadata": {},
   "outputs": [
    {
     "data": {
      "text/plain": [
       "tensor(    0.0001, grad_fn=<MseLossBackward0>)"
      ]
     },
     "execution_count": 75,
     "metadata": {},
     "output_type": "execute_result"
    }
   ],
   "source": [
    "torch.nn.MSELoss()(net(X), Y)"
   ]
  },
  {
   "cell_type": "code",
   "execution_count": 76,
   "id": "6a4758c6",
   "metadata": {},
   "outputs": [
    {
     "name": "stdout",
     "output_type": "stream",
     "text": [
      "tensor([[ 2.1488],\n",
      "        [-2.3810],\n",
      "        [ 1.9026],\n",
      "        [-1.8742],\n",
      "        [ 1.6751]], grad_fn=<MmBackward0>)\n",
      "tensor([[ 2.1527],\n",
      "        [-2.3925],\n",
      "        [ 1.9133],\n",
      "        [-1.8798],\n",
      "        [ 1.6862]])\n",
      "tensor(    0.0001, grad_fn=<MseLossBackward0>)\n"
     ]
    }
   ],
   "source": [
    "print(net(X))\n",
    "print(Y)\n",
    "print(torch.nn.MSELoss()(net(X), Y))"
   ]
  },
  {
   "cell_type": "code",
   "execution_count": null,
   "id": "d78919a2",
   "metadata": {},
   "outputs": [],
   "source": []
  }
 ],
 "metadata": {
  "kernelspec": {
   "display_name": "env_marlvr",
   "language": "python",
   "name": "env_marlvr"
  },
  "language_info": {
   "codemirror_mode": {
    "name": "ipython",
    "version": 3
   },
   "file_extension": ".py",
   "mimetype": "text/x-python",
   "name": "python",
   "nbconvert_exporter": "python",
   "pygments_lexer": "ipython3",
   "version": "3.8.10"
  }
 },
 "nbformat": 4,
 "nbformat_minor": 5
}
