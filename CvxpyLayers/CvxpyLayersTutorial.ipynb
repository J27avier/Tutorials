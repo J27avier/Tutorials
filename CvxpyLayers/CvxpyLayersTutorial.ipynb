{
 "cells": [
  {
   "cell_type": "markdown",
   "id": "0650cac6-83b9-48c5-8ba8-fb532a8453f1",
   "metadata": {},
   "source": [
    "# Cvxpy Layers Tutorial\n",
    "\n",
    "[Blog](https://locuslab.github.io/2019-10-28-cvxpylayers/)"
   ]
  },
  {
   "cell_type": "code",
   "execution_count": 2,
   "id": "1d61350b-c7bb-480f-a593-0def54943479",
   "metadata": {},
   "outputs": [],
   "source": [
    "import torch\n",
    "from tqdm import tqdm\n",
    "import os, sys\n",
    "import numpy as np\n",
    "import cvxpy as cp \n",
    "from cvxpylayers.torch import CvxpyLayer "
   ]
  },
  {
   "cell_type": "code",
   "execution_count": null,
   "id": "0c97db18-1cdc-4bc5-8e97-7a1d7395dc06",
   "metadata": {},
   "outputs": [],
   "source": []
  }
 ],
 "metadata": {
  "kernelspec": {
   "display_name": "env_marlvr",
   "language": "python",
   "name": "env_marlvr"
  },
  "language_info": {
   "codemirror_mode": {
    "name": "ipython",
    "version": 3
   },
   "file_extension": ".py",
   "mimetype": "text/x-python",
   "name": "python",
   "nbconvert_exporter": "python",
   "pygments_lexer": "ipython3",
   "version": "3.8.10"
  }
 },
 "nbformat": 4,
 "nbformat_minor": 5
}
